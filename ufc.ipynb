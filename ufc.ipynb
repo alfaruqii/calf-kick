{
 "cells": [
  {
   "cell_type": "code",
   "execution_count": 1,
   "metadata": {},
   "outputs": [
    {
     "ename": "ModuleNotFoundError",
     "evalue": "No module named 'pandas'",
     "output_type": "error",
     "traceback": [
      "\u001b[0;31m---------------------------------------------------------------------------\u001b[0m",
      "\u001b[0;31mModuleNotFoundError\u001b[0m                       Traceback (most recent call last)",
      "Cell \u001b[0;32mIn[1], line 1\u001b[0m\n\u001b[0;32m----> 1\u001b[0m \u001b[38;5;28;01mimport\u001b[39;00m \u001b[38;5;21;01mpandas\u001b[39;00m \u001b[38;5;28;01mas\u001b[39;00m \u001b[38;5;21;01mpd\u001b[39;00m\n\u001b[1;32m      2\u001b[0m \u001b[38;5;28;01mimport\u001b[39;00m \u001b[38;5;21;01mmatplotlib\u001b[39;00m\u001b[38;5;21;01m.\u001b[39;00m\u001b[38;5;21;01mpyplot\u001b[39;00m \u001b[38;5;28;01mas\u001b[39;00m \u001b[38;5;21;01mplt\u001b[39;00m\n",
      "\u001b[0;31mModuleNotFoundError\u001b[0m: No module named 'pandas'"
     ]
    }
   ],
   "source": [
    "import pandas as pd\n",
    "import matplotlib.pyplot as plt"
   ]
  },
  {
   "cell_type": "code",
   "execution_count": null,
   "metadata": {},
   "outputs": [],
   "source": [
    "df = pd.read_csv(\"data.csv\")"
   ]
  },
  {
   "cell_type": "code",
   "execution_count": null,
   "metadata": {},
   "outputs": [],
   "source": [
    "df.describe()"
   ]
  },
  {
   "cell_type": "code",
   "execution_count": null,
   "metadata": {},
   "outputs": [],
   "source": [
    "df[\"year\"]=pd.DatetimeIndex(df[\"date\"]).year\n",
    "df[\"total_STR_landed\"] = df[\"R_avg_SIG_STR_landed\"]+df[\"B_avg_SIG_STR_landed\"]\n",
    "df[\"total_avg_LEG_landed\"] = df[\"R_avg_LEG_landed\"]+df[\"B_avg_LEG_landed\"]"
   ]
  },
  {
   "cell_type": "code",
   "execution_count": null,
   "metadata": {},
   "outputs": [],
   "source": [
    "data = [[],[],[]]\n",
    "for i in range(len(df[\"year\"])-1):\n",
    "    if(df[\"year\"].values[i] != df[\"year\"].values[i+1]):\n",
    "        data[0].append(df[\"year\"][i])\n",
    "# add the last element\n",
    "data[0].append(df[\"year\"].values[-1])\n",
    "for i in range(len(data[0])):\n",
    "    data[1].append(df.loc[df[\"year\"] == int(data[0][i])][\"total_avg_LEG_landed\"].sum())\n",
    "for i in range(len(data[0])):\n",
    "    data[2].append(df.loc[df[\"year\"] == int(data[0][i])][\"total_STR_landed\"].sum())\n",
    "analytics_df = pd.DataFrame(data).transpose()\n",
    "analytics_df.columns = [\"years\",\"total_avg_LEG_landed\",\"total_avg_STR_landed\"]\n",
    "analytics_df.plot(x=\"years\",y=[\"total_avg_STR_landed\",\"total_avg_LEG_landed\"])"
   ]
  },
  {
   "cell_type": "code",
   "execution_count": null,
   "metadata": {},
   "outputs": [],
   "source": [
    "df[[\"R_avg_SIG_STR_landed\",\"B_avg_SIG_STR_landed\"]].describe()"
   ]
  },
  {
   "cell_type": "code",
   "execution_count": null,
   "metadata": {},
   "outputs": [],
   "source": [
    "analytics_df.loc[(analytics_df[\"total_avg_STR_landed\"] == analytics_df[\"total_avg_STR_landed\"].max()) & (analytics_df[\"total_avg_LEG_landed\"] == analytics_df[\"total_avg_LEG_landed\"].max())]"
   ]
  },
  {
   "cell_type": "code",
   "execution_count": null,
   "metadata": {
    "editable": true,
    "slideshow": {
     "slide_type": ""
    }
   },
   "outputs": [],
   "source": [
    "analytics_df.sort_values(by=[\"years\",\"total_avg_LEG_landed\",\"total_avg_STR_landed\"]).plot(\"years\",\"total_avg_STR_landed\",xlabel=\"Year\",ylabel=\"Total average significant strikes landed\",figsize=[10,4],kind=\"bar\",title=\"Total Significant Strikes in UFC from 1994-2021\")"
   ]
  },
  {
   "cell_type": "code",
   "execution_count": null,
   "metadata": {},
   "outputs": [],
   "source": [
    "df[[\"total_STR_landed\",\"total_avg_LEG_landed\"]].value_counts()"
   ]
  },
  {
   "cell_type": "code",
   "execution_count": null,
   "metadata": {},
   "outputs": [],
   "source": [
    "color = [\"red\"] * (df.shape[0]+1) + [\"blue\"] * (df.shape[0]+1)\n",
    "plot_color = df[\"Winner\"].apply(lambda x: \"red\" if x == \"Red\" else \"blue\" if x == \"Blue\" else \"yellow\")"
   ]
  },
  {
   "cell_type": "code",
   "execution_count": null,
   "metadata": {},
   "outputs": [],
   "source": [
    "df.plot(x=\"R_avg_TOTAL_STR_landed\",y=\"B_avg_TOTAL_STR_landed\",c=plot_color,kind=\"scatter\",xlabel=\"Total Strike landed by Red\",ylabel=\"Total Strike landed by Blue\",figsize=[10,5])\n",
    "plt.xlim(0)\n",
    "plt.ylim(0)\n",
    "legend_labels = {\"Red\": \"Red\", \"Blue\": \"Blue\", \"Draw\": \"Yellow\"}\n",
    "handles = [plt.Line2D([0], [0], marker='o', color='w', markerfacecolor=legend_labels[label], markersize=10) for label in legend_labels]\n",
    "plt.title(\"Fight Result in UFC with Strikes as a Base value\")\n",
    "plt.legend(handles=handles, labels=legend_labels, title=\"Winner\")\n",
    "plt.text(x=226.2864997558594,y=101.222421973876953,s=\"Holloway vs Poirier\",fontdict=dict(color=\"black\",size=7))\n",
    "# Show the plot\n",
    "plt.show()"
   ]
  },
  {
   "cell_type": "code",
   "execution_count": null,
   "metadata": {},
   "outputs": [],
   "source": [
    "df.loc[(df[\"B_fighter\"] == \"Max Holloway\") | (df[\"R_fighter\"] == \"Max Holloway\")][[\"R_avg_TOTAL_STR_landed\",\"B_avg_TOTAL_STR_landed\"]]"
   ]
  },
  {
   "cell_type": "code",
   "execution_count": null,
   "metadata": {},
   "outputs": [],
   "source": [
    "df[\"R_avg_LEG_landed\"].max()"
   ]
  },
  {
   "cell_type": "code",
   "execution_count": null,
   "metadata": {},
   "outputs": [],
   "source": [
    "df.loc[(df[\"R_avg_LEG_landed\"]==62.3515625)|(df[\"B_avg_LEG_landed\"]==51.635986328125)]"
   ]
  },
  {
   "cell_type": "code",
   "execution_count": null,
   "metadata": {},
   "outputs": [],
   "source": [
    "analytics_df.sort_values(by=[\"years\",\"total_avg_LEG_landed\",\"total_avg_STR_landed\"]).plot(\"years\",\"total_avg_LEG_landed\",xlabel=\"Year\",ylabel=\"Total Average Calf Kick Landed\",figsize=[10,4],kind=\"bar\",title=\"Calf Kick Usage in UFC from 1994-2021\")"
   ]
  },
  {
   "cell_type": "code",
   "execution_count": null,
   "metadata": {},
   "outputs": [],
   "source": [
    "max(data[2])"
   ]
  },
  {
   "cell_type": "code",
   "execution_count": null,
   "metadata": {},
   "outputs": [],
   "source": [
    "df.loc[(df[\"R_fighter\"]==\"Jon Jones\") | (df[\"B_fighter\"]==\"Jon Jones\")].sort_values(by=[\"year\",\"total_avg_LEG_landed\"]).plot(\"year\",\"total_avg_LEG_landed\",xlabel=\"Year\",ylabel=\"Total Average Calf Kick Landed (Jon Jones Fight)\",figsize=[10,4],kind=\"bar\",title=\"Calf Kick Usage in UFC base on Jon Jones fight from 2008-2021\")"
   ]
  },
  {
   "cell_type": "code",
   "execution_count": null,
   "metadata": {},
   "outputs": [],
   "source": []
  }
 ],
 "metadata": {
  "kernelspec": {
   "display_name": "Python 3 (ipykernel)",
   "language": "python",
   "name": "python3"
  },
  "language_info": {
   "codemirror_mode": {
    "name": "ipython",
    "version": 3
   },
   "file_extension": ".py",
   "mimetype": "text/x-python",
   "name": "python",
   "nbconvert_exporter": "python",
   "pygments_lexer": "ipython3",
   "version": "3.12.1"
  }
 },
 "nbformat": 4,
 "nbformat_minor": 4
}
